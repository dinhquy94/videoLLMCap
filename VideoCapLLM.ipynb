{
 "cells": [
  {
   "cell_type": "code",
   "execution_count": 2,
   "id": "c91d1e8b-4b89-4abc-b1fd-e0c4a4a952b4",
   "metadata": {},
   "outputs": [
    {
     "name": "stdout",
     "output_type": "stream",
     "text": [
      "Cloning into 'DeepSeek-VL2'...\n",
      "remote: Enumerating objects: 211, done.\u001b[K\n",
      "remote: Counting objects: 100% (82/82), done.\u001b[K\n",
      "remote: Compressing objects: 100% (43/43), done.\u001b[K\n",
      "remote: Total 211 (delta 61), reused 39 (delta 39), pack-reused 129 (from 2)\u001b[K\n",
      "Receiving objects: 100% (211/211), 31.05 MiB | 5.78 MiB/s, done.\n",
      "Resolving deltas: 100% (91/91), done.\n"
     ]
    }
   ],
   "source": [
    "!git clone https://github.com/deepseek-ai/DeepSeek-VL2.git"
   ]
  },
  {
   "cell_type": "code",
   "execution_count": 12,
   "id": "fbff7a7c-d0e6-4b06-adb7-dba637334e39",
   "metadata": {},
   "outputs": [
    {
     "name": "stdout",
     "output_type": "stream",
     "text": [
      "  % Total    % Received % Xferd  Average Speed   Time    Time     Time  Current\n",
      "                                 Dload  Upload   Total   Spent    Left  Speed\n",
      "100 2246k  100 2246k    0     0  5324k      0 --:--:-- --:--:-- --:--:-- 5335k\n",
      "Collecting pip\n",
      "  Using cached pip-25.0.1-py3-none-any.whl.metadata (3.7 kB)\n",
      "Collecting setuptools\n",
      "  Using cached setuptools-76.0.0-py3-none-any.whl.metadata (6.7 kB)\n",
      "Collecting wheel\n",
      "  Using cached wheel-0.45.1-py3-none-any.whl.metadata (2.3 kB)\n",
      "Using cached pip-25.0.1-py3-none-any.whl (1.8 MB)\n",
      "Using cached setuptools-76.0.0-py3-none-any.whl (1.2 MB)\n",
      "Using cached wheel-0.45.1-py3-none-any.whl (72 kB)\n",
      "Installing collected packages: wheel, setuptools, pip\n",
      "Successfully installed pip-25.0.1 setuptools-76.0.0 wheel-0.45.1\n"
     ]
    }
   ],
   "source": [
    "!curl -O https://bootstrap.pypa.io/get-pip.py\n",
    "!python get-pip.py"
   ]
  },
  {
   "cell_type": "code",
   "execution_count": 3,
   "id": "e3071e08-b56c-43ab-a48b-0a32e7923bc1",
   "metadata": {},
   "outputs": [
    {
     "name": "stdout",
     "output_type": "stream",
     "text": [
      "/home/quynd/vidCapLLM/DeepSeek-VL2\n"
     ]
    },
    {
     "name": "stderr",
     "output_type": "stream",
     "text": [
      "/home/quynd/myenv/lib/python3.12/site-packages/IPython/core/magics/osm.py:417: UserWarning: This is now an optional IPython functionality, setting dhist requires you to install the `pickleshare` library.\n",
      "  self.shell.db['dhist'] = compress_dhist(dhist)[-100:]\n"
     ]
    }
   ],
   "source": [
    "%cd DeepSeek-VL2"
   ]
  },
  {
   "cell_type": "code",
   "execution_count": 4,
   "id": "6cf1f98a-3fb2-4e3d-bfc1-d45c8872e101",
   "metadata": {},
   "outputs": [
    {
     "name": "stdout",
     "output_type": "stream",
     "text": [
      "Obtaining file:///home/quynd/vidCapLLM/DeepSeek-VL2\n",
      "  Installing build dependencies ... \u001b[?25ldone\n",
      "\u001b[?25h  Checking if build backend supports build_editable ... \u001b[?25ldone\n",
      "\u001b[?25h  Getting requirements to build editable ... \u001b[?25ldone\n",
      "\u001b[?25h  Preparing editable metadata (pyproject.toml) ... \u001b[?25ldone\n",
      "\u001b[?25hRequirement already satisfied: torch==2.0.1 in /home/quynd/vidCapLLM/venv/lib/python3.11/site-packages (from deepseek_vl2==1.0.0) (2.0.1)\n",
      "Requirement already satisfied: transformers==4.38.2 in /home/quynd/vidCapLLM/venv/lib/python3.11/site-packages (from deepseek_vl2==1.0.0) (4.38.2)\n",
      "Requirement already satisfied: timm>=0.9.16 in /home/quynd/vidCapLLM/venv/lib/python3.11/site-packages (from deepseek_vl2==1.0.0) (1.0.15)\n",
      "Requirement already satisfied: xformers>=0.0.21 in /home/quynd/vidCapLLM/venv/lib/python3.11/site-packages (from deepseek_vl2==1.0.0) (0.0.22)\n",
      "Requirement already satisfied: accelerate in /home/quynd/vidCapLLM/venv/lib/python3.11/site-packages (from deepseek_vl2==1.0.0) (1.4.0)\n",
      "Requirement already satisfied: sentencepiece in /home/quynd/vidCapLLM/venv/lib/python3.11/site-packages (from deepseek_vl2==1.0.0) (0.2.0)\n",
      "Requirement already satisfied: attrdict in /home/quynd/vidCapLLM/venv/lib/python3.11/site-packages (from deepseek_vl2==1.0.0) (2.0.1)\n",
      "Requirement already satisfied: einops in /home/quynd/vidCapLLM/venv/lib/python3.11/site-packages (from deepseek_vl2==1.0.0) (0.8.1)\n",
      "Requirement already satisfied: filelock in /home/quynd/vidCapLLM/venv/lib/python3.11/site-packages (from torch==2.0.1->deepseek_vl2==1.0.0) (3.17.0)\n",
      "Requirement already satisfied: typing-extensions in /home/quynd/vidCapLLM/venv/lib/python3.11/site-packages (from torch==2.0.1->deepseek_vl2==1.0.0) (4.12.2)\n",
      "Requirement already satisfied: sympy in /home/quynd/vidCapLLM/venv/lib/python3.11/site-packages (from torch==2.0.1->deepseek_vl2==1.0.0) (1.13.3)\n",
      "Requirement already satisfied: networkx in /home/quynd/vidCapLLM/venv/lib/python3.11/site-packages (from torch==2.0.1->deepseek_vl2==1.0.0) (3.4.2)\n",
      "Requirement already satisfied: jinja2 in /home/quynd/vidCapLLM/venv/lib/python3.11/site-packages (from torch==2.0.1->deepseek_vl2==1.0.0) (3.1.6)\n",
      "Requirement already satisfied: nvidia-cuda-nvrtc-cu11==11.7.99 in /home/quynd/vidCapLLM/venv/lib/python3.11/site-packages (from torch==2.0.1->deepseek_vl2==1.0.0) (11.7.99)\n",
      "Requirement already satisfied: nvidia-cuda-runtime-cu11==11.7.99 in /home/quynd/vidCapLLM/venv/lib/python3.11/site-packages (from torch==2.0.1->deepseek_vl2==1.0.0) (11.7.99)\n",
      "Requirement already satisfied: nvidia-cuda-cupti-cu11==11.7.101 in /home/quynd/vidCapLLM/venv/lib/python3.11/site-packages (from torch==2.0.1->deepseek_vl2==1.0.0) (11.7.101)\n",
      "Requirement already satisfied: nvidia-cudnn-cu11==8.5.0.96 in /home/quynd/vidCapLLM/venv/lib/python3.11/site-packages (from torch==2.0.1->deepseek_vl2==1.0.0) (8.5.0.96)\n",
      "Requirement already satisfied: nvidia-cublas-cu11==11.10.3.66 in /home/quynd/vidCapLLM/venv/lib/python3.11/site-packages (from torch==2.0.1->deepseek_vl2==1.0.0) (11.10.3.66)\n",
      "Requirement already satisfied: nvidia-cufft-cu11==10.9.0.58 in /home/quynd/vidCapLLM/venv/lib/python3.11/site-packages (from torch==2.0.1->deepseek_vl2==1.0.0) (10.9.0.58)\n",
      "Requirement already satisfied: nvidia-curand-cu11==10.2.10.91 in /home/quynd/vidCapLLM/venv/lib/python3.11/site-packages (from torch==2.0.1->deepseek_vl2==1.0.0) (10.2.10.91)\n",
      "Requirement already satisfied: nvidia-cusolver-cu11==11.4.0.1 in /home/quynd/vidCapLLM/venv/lib/python3.11/site-packages (from torch==2.0.1->deepseek_vl2==1.0.0) (11.4.0.1)\n",
      "Requirement already satisfied: nvidia-cusparse-cu11==11.7.4.91 in /home/quynd/vidCapLLM/venv/lib/python3.11/site-packages (from torch==2.0.1->deepseek_vl2==1.0.0) (11.7.4.91)\n",
      "Requirement already satisfied: nvidia-nccl-cu11==2.14.3 in /home/quynd/vidCapLLM/venv/lib/python3.11/site-packages (from torch==2.0.1->deepseek_vl2==1.0.0) (2.14.3)\n",
      "Requirement already satisfied: nvidia-nvtx-cu11==11.7.91 in /home/quynd/vidCapLLM/venv/lib/python3.11/site-packages (from torch==2.0.1->deepseek_vl2==1.0.0) (11.7.91)\n",
      "Requirement already satisfied: triton==2.0.0 in /home/quynd/vidCapLLM/venv/lib/python3.11/site-packages (from torch==2.0.1->deepseek_vl2==1.0.0) (2.0.0)\n",
      "Requirement already satisfied: huggingface-hub<1.0,>=0.19.3 in /home/quynd/vidCapLLM/venv/lib/python3.11/site-packages (from transformers==4.38.2->deepseek_vl2==1.0.0) (0.29.3)\n",
      "Requirement already satisfied: numpy>=1.17 in /home/quynd/vidCapLLM/venv/lib/python3.11/site-packages (from transformers==4.38.2->deepseek_vl2==1.0.0) (2.2.3)\n",
      "Requirement already satisfied: packaging>=20.0 in /home/quynd/vidCapLLM/venv/lib/python3.11/site-packages (from transformers==4.38.2->deepseek_vl2==1.0.0) (24.2)\n",
      "Requirement already satisfied: pyyaml>=5.1 in /home/quynd/vidCapLLM/venv/lib/python3.11/site-packages (from transformers==4.38.2->deepseek_vl2==1.0.0) (6.0.2)\n",
      "Requirement already satisfied: regex!=2019.12.17 in /home/quynd/vidCapLLM/venv/lib/python3.11/site-packages (from transformers==4.38.2->deepseek_vl2==1.0.0) (2024.11.6)\n",
      "Requirement already satisfied: requests in /home/quynd/vidCapLLM/venv/lib/python3.11/site-packages (from transformers==4.38.2->deepseek_vl2==1.0.0) (2.32.3)\n",
      "Requirement already satisfied: tokenizers<0.19,>=0.14 in /home/quynd/vidCapLLM/venv/lib/python3.11/site-packages (from transformers==4.38.2->deepseek_vl2==1.0.0) (0.15.2)\n",
      "Requirement already satisfied: safetensors>=0.4.1 in /home/quynd/vidCapLLM/venv/lib/python3.11/site-packages (from transformers==4.38.2->deepseek_vl2==1.0.0) (0.5.3)\n",
      "Requirement already satisfied: tqdm>=4.27 in /home/quynd/vidCapLLM/venv/lib/python3.11/site-packages (from transformers==4.38.2->deepseek_vl2==1.0.0) (4.67.1)\n",
      "Requirement already satisfied: setuptools in /home/quynd/vidCapLLM/venv/lib/python3.11/site-packages (from nvidia-cublas-cu11==11.10.3.66->torch==2.0.1->deepseek_vl2==1.0.0) (76.0.0)\n",
      "Requirement already satisfied: wheel in /home/quynd/vidCapLLM/venv/lib/python3.11/site-packages (from nvidia-cublas-cu11==11.10.3.66->torch==2.0.1->deepseek_vl2==1.0.0) (0.45.1)\n",
      "Requirement already satisfied: cmake in /home/quynd/vidCapLLM/venv/lib/python3.11/site-packages (from triton==2.0.0->torch==2.0.1->deepseek_vl2==1.0.0) (3.31.6)\n",
      "Requirement already satisfied: lit in /home/quynd/vidCapLLM/venv/lib/python3.11/site-packages (from triton==2.0.0->torch==2.0.1->deepseek_vl2==1.0.0) (18.1.8)\n",
      "Requirement already satisfied: torchvision in /home/quynd/vidCapLLM/venv/lib/python3.11/site-packages (from timm>=0.9.16->deepseek_vl2==1.0.0) (0.15.2)\n",
      "Requirement already satisfied: psutil in /home/quynd/vidCapLLM/venv/lib/python3.11/site-packages (from accelerate->deepseek_vl2==1.0.0) (7.0.0)\n",
      "Requirement already satisfied: six in /home/quynd/vidCapLLM/venv/lib/python3.11/site-packages (from attrdict->deepseek_vl2==1.0.0) (1.17.0)\n",
      "Requirement already satisfied: fsspec>=2023.5.0 in /home/quynd/vidCapLLM/venv/lib/python3.11/site-packages (from huggingface-hub<1.0,>=0.19.3->transformers==4.38.2->deepseek_vl2==1.0.0) (2025.3.0)\n",
      "Requirement already satisfied: MarkupSafe>=2.0 in /home/quynd/vidCapLLM/venv/lib/python3.11/site-packages (from jinja2->torch==2.0.1->deepseek_vl2==1.0.0) (3.0.2)\n",
      "Requirement already satisfied: charset-normalizer<4,>=2 in /home/quynd/vidCapLLM/venv/lib/python3.11/site-packages (from requests->transformers==4.38.2->deepseek_vl2==1.0.0) (3.4.1)\n",
      "Requirement already satisfied: idna<4,>=2.5 in /home/quynd/vidCapLLM/venv/lib/python3.11/site-packages (from requests->transformers==4.38.2->deepseek_vl2==1.0.0) (3.10)\n",
      "Requirement already satisfied: urllib3<3,>=1.21.1 in /home/quynd/vidCapLLM/venv/lib/python3.11/site-packages (from requests->transformers==4.38.2->deepseek_vl2==1.0.0) (2.3.0)\n",
      "Requirement already satisfied: certifi>=2017.4.17 in /home/quynd/vidCapLLM/venv/lib/python3.11/site-packages (from requests->transformers==4.38.2->deepseek_vl2==1.0.0) (2025.1.31)\n",
      "Requirement already satisfied: mpmath<1.4,>=1.1.0 in /home/quynd/vidCapLLM/venv/lib/python3.11/site-packages (from sympy->torch==2.0.1->deepseek_vl2==1.0.0) (1.3.0)\n",
      "Requirement already satisfied: pillow!=8.3.*,>=5.3.0 in /home/quynd/vidCapLLM/venv/lib/python3.11/site-packages (from torchvision->timm>=0.9.16->deepseek_vl2==1.0.0) (11.1.0)\n",
      "Building wheels for collected packages: deepseek_vl2\n",
      "  Building editable for deepseek_vl2 (pyproject.toml) ... \u001b[?25ldone\n",
      "\u001b[?25h  Created wheel for deepseek_vl2: filename=deepseek_vl2-1.0.0-0.editable-py3-none-any.whl size=14507 sha256=98d4edddc9777ac25700aa4e3e61b171f34d961f06e001716233e0e3d5695f1b\n",
      "  Stored in directory: /tmp/pip-ephem-wheel-cache-ime5ddhk/wheels/c7/3a/be/2df7ced65a0650263c4048d2af8f4963bf95998ca4e8f893a2\n",
      "Successfully built deepseek_vl2\n",
      "Installing collected packages: deepseek_vl2\n",
      "  Attempting uninstall: deepseek_vl2\n",
      "    Found existing installation: deepseek_vl2 1.0.0\n",
      "    Uninstalling deepseek_vl2-1.0.0:\n",
      "      Successfully uninstalled deepseek_vl2-1.0.0\n",
      "Successfully installed deepseek_vl2-1.0.0\n"
     ]
    }
   ],
   "source": [
    "!pip install -e ."
   ]
  },
  {
   "cell_type": "code",
   "execution_count": 5,
   "id": "839813f3-2ce2-4079-b717-a5a3c7d9cef0",
   "metadata": {},
   "outputs": [
    {
     "ename": "ModuleNotFoundError",
     "evalue": "No module named 'torch'",
     "output_type": "error",
     "traceback": [
      "\u001b[0;31m---------------------------------------------------------------------------\u001b[0m",
      "\u001b[0;31mModuleNotFoundError\u001b[0m                       Traceback (most recent call last)",
      "Cell \u001b[0;32mIn[5], line 1\u001b[0m\n\u001b[0;32m----> 1\u001b[0m \u001b[38;5;28;01mimport\u001b[39;00m\u001b[38;5;250m \u001b[39m\u001b[38;5;21;01mtorch\u001b[39;00m\n\u001b[1;32m      2\u001b[0m \u001b[38;5;28;01mfrom\u001b[39;00m\u001b[38;5;250m \u001b[39m\u001b[38;5;21;01mtransformers\u001b[39;00m\u001b[38;5;250m \u001b[39m\u001b[38;5;28;01mimport\u001b[39;00m AutoModelForCausalLM\n\u001b[1;32m      4\u001b[0m \u001b[38;5;28;01mfrom\u001b[39;00m\u001b[38;5;250m \u001b[39m\u001b[38;5;21;01mdeepseek_vl2\u001b[39;00m\u001b[38;5;21;01m.\u001b[39;00m\u001b[38;5;21;01mmodels\u001b[39;00m\u001b[38;5;250m \u001b[39m\u001b[38;5;28;01mimport\u001b[39;00m DeepseekVLV2Processor, DeepseekVLV2ForCausalLM\n",
      "\u001b[0;31mModuleNotFoundError\u001b[0m: No module named 'torch'"
     ]
    }
   ],
   "source": [
    "import torch\n",
    "from transformers import AutoModelForCausalLM\n",
    "\n",
    "from deepseek_vl2.models import DeepseekVLV2Processor, DeepseekVLV2ForCausalLM\n",
    "from deepseek_vl2.utils.io import load_pil_images\n",
    "\n",
    "\n",
    "# specify the path to the model\n",
    "model_path = \"deepseek-ai/deepseek-vl2-tiny\"\n",
    "vl_chat_processor: DeepseekVLV2Processor = DeepseekVLV2Processor.from_pretrained(model_path)\n",
    "tokenizer = vl_chat_processor.tokenizer\n",
    "\n",
    "vl_gpt: DeepseekVLV2ForCausalLM = AutoModelForCausalLM.from_pretrained(model_path, trust_remote_code=True)\n",
    "vl_gpt = vl_gpt.to(torch.bfloat16).cuda().eval()\n",
    "\n",
    "## single image conversation example\n",
    "## Please note that <|ref|> and <|/ref|> are designed specifically for the object localization feature. These special tokens are not required for normal conversations.\n",
    "## If you would like to experience the grounded captioning functionality (responses that include both object localization and reasoning), you need to add the special token <|grounding|> at the beginning of the prompt. Examples could be found in Figure 9 of our paper.\n",
    "conversation = [\n",
    "    {\n",
    "        \"role\": \"<|User|>\",\n",
    "        \"content\": \"<image>\\n<|ref|>The giraffe at the back.<|/ref|>.\",\n",
    "        \"images\": [\"./images/visual_grounding_1.jpeg\"],\n",
    "    },\n",
    "    {\"role\": \"<|Assistant|>\", \"content\": \"\"},\n",
    "]\n",
    "\n",
    "# load images and prepare for inputs\n",
    "pil_images = load_pil_images(conversation)\n",
    "prepare_inputs = vl_chat_processor(\n",
    "    conversations=conversation,\n",
    "    images=pil_images,\n",
    "    force_batchify=True,\n",
    "    system_prompt=\"\"\n",
    ").to(vl_gpt.device)\n",
    "\n",
    "# run image encoder to get the image embeddings\n",
    "inputs_embeds = vl_gpt.prepare_inputs_embeds(**prepare_inputs)\n",
    "\n",
    "# run the model to get the response\n",
    "outputs = vl_gpt.language.generate(\n",
    "    inputs_embeds=inputs_embeds,\n",
    "    attention_mask=prepare_inputs.attention_mask,\n",
    "    pad_token_id=tokenizer.eos_token_id,\n",
    "    bos_token_id=tokenizer.bos_token_id,\n",
    "    eos_token_id=tokenizer.eos_token_id,\n",
    "    max_new_tokens=512,\n",
    "    do_sample=False,\n",
    "    use_cache=True\n",
    ")\n",
    "\n",
    "answer = tokenizer.decode(outputs[0].cpu().tolist(), skip_special_tokens=False)\n",
    "print(f\"{prepare_inputs['sft_format'][0]}\", answer)"
   ]
  }
 ],
 "metadata": {
  "kernelspec": {
   "display_name": "Python 3 (ipykernel)",
   "language": "python",
   "name": "python3"
  },
  "language_info": {
   "codemirror_mode": {
    "name": "ipython",
    "version": 3
   },
   "file_extension": ".py",
   "mimetype": "text/x-python",
   "name": "python",
   "nbconvert_exporter": "python",
   "pygments_lexer": "ipython3",
   "version": "3.12.3"
  }
 },
 "nbformat": 4,
 "nbformat_minor": 5
}
